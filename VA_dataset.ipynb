{
 "cells": [
  {
   "cell_type": "code",
   "execution_count": 1,
   "metadata": {
    "collapsed": false
   },
   "outputs": [],
   "source": [
    "from pprint import pprint\n",
    "import pandas as pd\n",
    "import numpy as np\n",
    "import matplotlib\n",
    "import matplotlib.pyplot as plt\n",
    "import seaborn as sns\n",
    "import gensim\n",
    "import re\n",
    "sns.set(style=\"whitegrid\")\n",
    "%matplotlib inline"
   ]
  },
  {
   "cell_type": "code",
   "execution_count": 27,
   "metadata": {
    "collapsed": true
   },
   "outputs": [],
   "source": [
    "def clean_str(string):\n",
    "    \"\"\"\n",
    "    Tokenization/string cleaning for all datasets except for SST.\n",
    "    Original taken from https://github.com/yoonkim/CNN_sentence/blob/master/process_data.py\n",
    "    \"\"\"\n",
    "    string = re.sub(r\"[^A-Za-z0-9(),!?\\'\\`]\", \" \", string)\n",
    "    string = re.sub(r\"\\'s\", \" \\'s\", string)\n",
    "    string = re.sub(r\"\\'ve\", \" \\'ve\", string)\n",
    "    string = re.sub(r\"n\\'t\", \" n\\'t\", string)\n",
    "    string = re.sub(r\"\\'re\", \" \\'re\", string)\n",
    "    string = re.sub(r\"\\'d\", \" \\'d\", string)\n",
    "    string = re.sub(r\"\\'ll\", \" \\'ll\", string)\n",
    "    string = re.sub(r\",\", \" , \", string)\n",
    "    string = re.sub(r\"!\", \" ! \", string)\n",
    "    string = re.sub(r\"\\(\", \" \\( \", string)\n",
    "    string = re.sub(r\"\\)\", \" \\) \", string)\n",
    "    string = re.sub(r\"\\?\", \" \\? \", string)\n",
    "    string = re.sub(r\"\\s{2,}\", \" \", string)\n",
    "    return string.strip().lower()\n",
    "\n",
    "onetdict ={'11': 'Management Occupations',\n",
    "           '13': 'Business and Financial Operations Occupations',\n",
    "           '15': 'Computer and Mathematical Occupations',\n",
    "           '17': 'Architecture and Engineering Occupations',\n",
    "           '19': 'Life, Physical, and Social Science Occupations',\n",
    "           '21': 'Community and Social Service Occupations',\n",
    "           '23': 'Legal Occupations',\n",
    "           '25': 'Education, Training, and Library Occupations',\n",
    "           '27': 'Arts, Design, Entertainment, Sports, and Media Occupations',\n",
    "           '29': 'Healthcare Practitioners and Technical Occupations',\n",
    "           '31': 'Healthcare Support Occupations',\n",
    "           '33': 'Protective Service Occupations',\n",
    "           '35': 'Food Preparation and Serving Related Occupations',\n",
    "           '37': 'Building and Grounds Cleaning and Maintenance',\n",
    "           '39': 'Personal Care and Service Occupations',\n",
    "           '41': 'Sales and Related Occupations', \n",
    "           '43': 'Office and Administrative Support Occupations',\n",
    "           '45': 'Farming, Fishing, and Forestry Occupations',\n",
    "           '47': 'Construction and Extraction Occupations', \n",
    "           '49': 'Installation, Maintenance, and Repair Occupations', \n",
    "           '51': 'Production Occupations', \n",
    "           '53': 'Transportation and Material Moving Occupations', \n",
    "           '55': 'Military Specific Occupations',\n",
    "           '99': 'Unknown'}"
   ]
  },
  {
   "cell_type": "markdown",
   "metadata": {},
   "source": [
    "## Load VA dataset"
   ]
  },
  {
   "cell_type": "code",
   "execution_count": 3,
   "metadata": {
    "collapsed": false
   },
   "outputs": [],
   "source": [
    "df = pd.read_csv('joblistings.merged.parsed.unique.grpbyyear.2010-2015.01.tsv',sep='\\t', dtype={\"educationRequirements\": str})    "
   ]
  },
  {
   "cell_type": "code",
   "execution_count": 4,
   "metadata": {
    "collapsed": false
   },
   "outputs": [
    {
     "name": "stdout",
     "output_type": "stream",
     "text": [
      "360000\n"
     ]
    }
   ],
   "source": [
    "print len(df)"
   ]
  },
  {
   "cell_type": "code",
   "execution_count": 5,
   "metadata": {
    "collapsed": false
   },
   "outputs": [
    {
     "name": "stdout",
     "output_type": "stream",
     "text": [
      "163945\n",
      "['Maintenance Groundskeeper' 'Pre Need Benefit Advisor'\n",
      " 'Sales Representative' ..., 'Home Loan Consultant'\n",
      " 'Material Handler (Forklift And Stand-Up Reach Driver)'\n",
      " 'Supervisor- Accounts Payable/Receivable']\n"
     ]
    }
   ],
   "source": [
    "print len(df['title'].unique())\n",
    "print df['title'].unique()"
   ]
  },
  {
   "cell_type": "code",
   "execution_count": 6,
   "metadata": {
    "collapsed": false
   },
   "outputs": [
    {
     "data": {
      "text/plain": [
       "count         349892\n",
       "unique           489\n",
       "top       11-9051.00\n",
       "freq           11420\n",
       "Name: normalizedTitle_onetCode, dtype: object"
      ]
     },
     "execution_count": 6,
     "metadata": {},
     "output_type": "execute_result"
    }
   ],
   "source": [
    "onet = df['normalizedTitle_onetCode']\n",
    "onet.describe()"
   ]
  },
  {
   "cell_type": "markdown",
   "metadata": {},
   "source": [
    "## Cleaning\n",
    "\n",
    "**Column of interest:** \n",
    "- 'title', 'normalizedTitle_onetCode', 'normalizedTitle_onetName','jobDescription', 'educationRequirements','qualifications','responsibilities','skills'\n",
    "\n",
    "**Basic cleaning and preprocessing**:\n",
    "- Get rid of punctuations and numbers\n",
    "- Set in lowercase\n",
    "- Tokenize and de-accent\n"
   ]
  },
  {
   "cell_type": "code",
   "execution_count": 7,
   "metadata": {
    "collapsed": false
   },
   "outputs": [],
   "source": [
    "document = df['title'].str.cat([df['normalizedTitle_onetName'], df['jobDescription'], df['educationRequirements'],df['qualifications'],df['skills']], sep=' ',na_rep='')"
   ]
  },
  {
   "cell_type": "code",
   "execution_count": 8,
   "metadata": {
    "collapsed": false
   },
   "outputs": [],
   "source": [
    "for i, context in document.iteritems():\n",
    "    document[i] = \" \".join(gensim.utils.simple_preprocess(clean_str(context)))"
   ]
  },
  {
   "cell_type": "markdown",
   "metadata": {},
   "source": [
    "**imputation in normalizedTitle_onetCode:**\n",
    "- Data quality is relatively good in terms of missing value\n",
    "- There are 4069 entries with normalizedTitle_onetCode 99-9999.00 and 10108 entries with normalizedTitle_onetCode NaN\n",
    "- 99-9999.00 is not a valid onet code, so let's assume they are unknown type of occupation. \n",
    "- Impute NaN with 99-9999.00"
   ]
  },
  {
   "cell_type": "code",
   "execution_count": 11,
   "metadata": {
    "collapsed": false
   },
   "outputs": [
    {
     "name": "stdout",
     "output_type": "stream",
     "text": [
      "Invalid onet code:  4069\n",
      "Missing values:  10108\n"
     ]
    }
   ],
   "source": [
    "print \"Invalid onet code: \", df[df['normalizedTitle_onetCode']=='99-9999.00']['id'].count()\n",
    "print \"Missing values: \", df['normalizedTitle_onetCode'].isnull().sum()\n"
   ]
  },
  {
   "cell_type": "code",
   "execution_count": 12,
   "metadata": {
    "collapsed": true
   },
   "outputs": [],
   "source": [
    "onet_code = df['normalizedTitle_onetCode'].fillna('99-9999.00')"
   ]
  },
  {
   "cell_type": "markdown",
   "metadata": {},
   "source": [
    "**Extract major group**\n",
    "- ONET Standard Occupational Classification has five layers:\n",
    "    - **```First layer: 23 standard major groups (job categories)```**\n",
    "    - Second layer: Minor groups\n",
    "    - Third layer: Broad Occupations\n",
    "    - Forth layer: Detailed Occupations\n",
    "    - Fifth layer: Onet 2010 SOC occupations"
   ]
  },
  {
   "cell_type": "code",
   "execution_count": 13,
   "metadata": {
    "collapsed": true
   },
   "outputs": [],
   "source": [
    "major_group = pd.Series(map(lambda row: row[:2],onet_code))"
   ]
  },
  {
   "cell_type": "code",
   "execution_count": 14,
   "metadata": {
    "collapsed": false
   },
   "outputs": [
    {
     "name": "stdout",
     "output_type": "stream",
     "text": [
      "Major groups:  ['37' '13' '41' '11' '15' '99' '43' '51' '53' '27' '35' '19' '17' '25' '39'\n",
      " '29' '33' '21' '23' '47' '31' '49' '45' '55']\n",
      "Number of major groups:  24\n"
     ]
    }
   ],
   "source": [
    "print \"Major groups: \", major_group.unique()\n",
    "print \"Number of major groups: \", len(major_group.unique())"
   ]
  },
  {
   "cell_type": "markdown",
   "metadata": {},
   "source": [
    "## Build Corpus"
   ]
  },
  {
   "cell_type": "code",
   "execution_count": 15,
   "metadata": {
    "collapsed": false
   },
   "outputs": [],
   "source": [
    "df_clean = pd.DataFrame({'onet_code': onet_code, 'major_group': major_group, 'documents': document})"
   ]
  },
  {
   "cell_type": "code",
   "execution_count": 16,
   "metadata": {
    "collapsed": false
   },
   "outputs": [
    {
     "data": {
      "text/html": [
       "<div>\n",
       "<table border=\"1\" class=\"dataframe\">\n",
       "  <thead>\n",
       "    <tr style=\"text-align: right;\">\n",
       "      <th></th>\n",
       "      <th>documents</th>\n",
       "      <th>major_group</th>\n",
       "      <th>onet_code</th>\n",
       "    </tr>\n",
       "  </thead>\n",
       "  <tbody>\n",
       "    <tr>\n",
       "      <th>0</th>\n",
       "      <td>maintenance groundskeeper janitors and cleaner...</td>\n",
       "      <td>37</td>\n",
       "      <td>37-2011.00</td>\n",
       "    </tr>\n",
       "    <tr>\n",
       "      <th>1</th>\n",
       "      <td>pre need benefit advisor compensation benefits...</td>\n",
       "      <td>13</td>\n",
       "      <td>13-1141.00</td>\n",
       "    </tr>\n",
       "    <tr>\n",
       "      <th>2</th>\n",
       "      <td>pre need benefit advisor compensation benefits...</td>\n",
       "      <td>13</td>\n",
       "      <td>13-1141.00</td>\n",
       "    </tr>\n",
       "    <tr>\n",
       "      <th>3</th>\n",
       "      <td>sales representative sales representatives who...</td>\n",
       "      <td>41</td>\n",
       "      <td>41-4012.00</td>\n",
       "    </tr>\n",
       "    <tr>\n",
       "      <th>4</th>\n",
       "      <td>sales manager sales managers sales manager pit...</td>\n",
       "      <td>11</td>\n",
       "      <td>11-2022.00</td>\n",
       "    </tr>\n",
       "  </tbody>\n",
       "</table>\n",
       "</div>"
      ],
      "text/plain": [
       "                                           documents major_group   onet_code\n",
       "0  maintenance groundskeeper janitors and cleaner...          37  37-2011.00\n",
       "1  pre need benefit advisor compensation benefits...          13  13-1141.00\n",
       "2  pre need benefit advisor compensation benefits...          13  13-1141.00\n",
       "3  sales representative sales representatives who...          41  41-4012.00\n",
       "4  sales manager sales managers sales manager pit...          11  11-2022.00"
      ]
     },
     "execution_count": 16,
     "metadata": {},
     "output_type": "execute_result"
    }
   ],
   "source": [
    "df_clean.head(n=5)"
   ]
  },
  {
   "cell_type": "markdown",
   "metadata": {},
   "source": [
    "## Exploration"
   ]
  },
  {
   "cell_type": "code",
   "execution_count": 17,
   "metadata": {
    "collapsed": false
   },
   "outputs": [],
   "source": [
    "average_word_count = {}\n",
    "for m in df_clean['major_group'].unique():\n",
    "    word_count=0\n",
    "    sum_doc = 0.0\n",
    "    for doc in df_clean[df_clean['major_group']==m]['documents']:\n",
    "        word_count += len(doc.split())\n",
    "        sum_doc += 1\n",
    "    average_word_count[m] = round(word_count / sum_doc)\n"
   ]
  },
  {
   "cell_type": "code",
   "execution_count": 18,
   "metadata": {
    "collapsed": false
   },
   "outputs": [
    {
     "data": {
      "text/plain": [
       "<matplotlib.axes._subplots.AxesSubplot at 0x108854c50>"
      ]
     },
     "execution_count": 18,
     "metadata": {},
     "output_type": "execute_result"
    },
    {
     "data": {
      "image/png": "[encoded data removed]",
      "text/plain": [
       "<matplotlib.figure.Figure at 0x1083dd590>"
      ]
     },
     "metadata": {},
     "output_type": "display_data"
    }
   ],
   "source": [
    "average_count = pd.DataFrame(average_word_count.items(),columns=['major_group','word_count'])\n",
    "sns.barplot(x ='major_group', y='word_count', data=average_count, palette=\"Blues\")"
   ]
  },
  {
   "cell_type": "markdown",
   "metadata": {},
   "source": [
    "### Least average word count"
   ]
  },
  {
   "cell_type": "code",
   "execution_count": 19,
   "metadata": {
    "collapsed": false
   },
   "outputs": [
    {
     "name": "stdout",
     "output_type": "stream",
     "text": [
      "51 Production Occupations: 170\n",
      "39 Personal Care and Service Occupations: 354\n",
      "53 Transportation and Material Moving Occupations: 362\n"
     ]
    }
   ],
   "source": [
    "for i, row in average_count.sort_values(by='word_count').iloc[:3].iterrows():\n",
    "    print row[0] + ' ' + onetdict[row[0]] + ': ' + str(int(row[1]))"
   ]
  },
  {
   "cell_type": "markdown",
   "metadata": {},
   "source": [
    "### Most average word count"
   ]
  },
  {
   "cell_type": "code",
   "execution_count": 20,
   "metadata": {
    "collapsed": false
   },
   "outputs": [
    {
     "name": "stdout",
     "output_type": "stream",
     "text": [
      "27 Arts, Design, Entertainment, Sports, and Media Occupations: 663\n",
      "49 Installation, Maintenance, and Repair Occupations: 656\n",
      "41 Sales and Related Occupations: 640\n"
     ]
    }
   ],
   "source": [
    "for i, row in average_count.sort_values(by='word_count',ascending=False).iloc[:3].iterrows():\n",
    "    print row[0] + ' ' + onetdict[row[0]] + ': ' + str(int(row[1]))"
   ]
  },
  {
   "cell_type": "code",
   "execution_count": 22,
   "metadata": {
    "collapsed": false
   },
   "outputs": [
    {
     "data": {
      "text/plain": [
       "u'maintenance groundskeeper janitors and cleaners except maids and housekeeping cleaners maintenance groundskeeper memphis tennessee stonemor partners is currently seeking groundskeeper to join our team at forest hills east this position is responsible for the care maintenance and repairs of the property as well as the safety and security of the employees and visitors of the location we offer competitive benefits package including medical dental life short term disability long term disability tuition reimbursement paid time off more click here for more information stonemor partners is an equal opportunity employer performs all landscape maintenance duties such as lawn mowing weed whacking snow removal etc operates machinery appropriately in safe manner handles the day to day general maintenance duties maintains equipment performs other duties as assigned high school equivalency required years experience in maintenance or related field ability to operate maintenance equipment and machinery ability to read and execute memos and directives from supervisor and or management strong organizational skills and ability to handle multiple tasks with interruptions excellent customer service and interpersonal skills must possess valid state drivers license'"
      ]
     },
     "execution_count": 22,
     "metadata": {},
     "output_type": "execute_result"
    }
   ],
   "source": [
    "# Example of a document\n",
    "df_clean['documents'][45]"
   ]
  },
  {
   "cell_type": "code",
   "execution_count": 23,
   "metadata": {
    "collapsed": false
   },
   "outputs": [
    {
     "data": {
      "text/plain": [
       "<matplotlib.axes._subplots.AxesSubplot at 0x10bafd950>"
      ]
     },
     "execution_count": 23,
     "metadata": {},
     "output_type": "execute_result"
    },
    {
     "data": {
      "image/png": "[encoded data removed]",
      "text/plain": [
       "<matplotlib.figure.Figure at 0x10b92d610>"
      ]
     },
     "metadata": {},
     "output_type": "display_data"
    }
   ],
   "source": [
    "df_clean['major_group'].describe()\n",
    "sns.countplot('major_group', data=df_clean, palette=\"Blues\")"
   ]
  },
  {
   "cell_type": "markdown",
   "metadata": {},
   "source": [
    "### Most \n",
    "\n",
    "11: Management Occupations has **59960** instances\n",
    "\n",
    "29: Healthcare Practitioners and Technical Occupations has **39818** instances\n",
    "\n",
    "15: Computer and Mathematical Occupations has **37580** instances\n",
    "\n",
    "###  Least\n",
    "\n",
    "45: Farming, Fishing, and Forestry Occupations has **57** instances\n",
    "\n",
    "55: Military Specific Occupations has **457** instances\n",
    "\n",
    "23: Legal Occupations has **817** instances\n"
   ]
  },
  {
   "cell_type": "code",
   "execution_count": 24,
   "metadata": {
    "collapsed": false
   },
   "outputs": [
    {
     "name": "stdout",
     "output_type": "stream",
     "text": [
      "Most\n",
      "11 Management Occupations:  59960\n",
      "29 Healthcare Practitioners and Technical Occupations:  39818\n",
      "15 Computer and Mathematical Occupations:  37580\n",
      "Least\n",
      "45 Farming, Fishing, and Forestry Occupations:  57\n",
      "55 Military Specific Occupations:  457\n",
      "23 Legal Occupations:  817\n"
     ]
    }
   ],
   "source": [
    "print \"Most\"\n",
    "print \"11 Management Occupations: \", len(df_clean['major_group'][df_clean['major_group']=='11'])\n",
    "print \"29 Healthcare Practitioners and Technical Occupations: \", len(df_clean['major_group'][df_clean['major_group']=='29'])\n",
    "print \"15 Computer and Mathematical Occupations: \", len(df_clean['major_group'][df_clean['major_group']=='15'])\n",
    "print \"Least\"\n",
    "print \"45 Farming, Fishing, and Forestry Occupations: \", len(df_clean['major_group'][df_clean['major_group']=='45'])\n",
    "print \"55 Military Specific Occupations: \", len(df_clean['major_group'][df_clean['major_group']=='55'])\n",
    "print \"23 Legal Occupations: \", len(df_clean['major_group'][df_clean['major_group']=='23'])"
   ]
  },
  {
   "cell_type": "code",
   "execution_count": 26,
   "metadata": {
    "collapsed": false
   },
   "outputs": [
    {
     "name": "stdout",
     "output_type": "stream",
     "text": [
      "Unique SOC occupations:  489\n"
     ]
    }
   ],
   "source": [
    "print \"Unique SOC occupations: \", len(df_clean['onet_code'].unique())"
   ]
  },
  {
   "cell_type": "markdown",
   "metadata": {},
   "source": [
    "## Split Training set and testing set "
   ]
  },
  {
   "cell_type": "code",
   "execution_count": 157,
   "metadata": {
    "collapsed": false
   },
   "outputs": [],
   "source": [
    "from sklearn.model_selection import train_test_split\n",
    "words_train, words_test, tag_train, tag_test =  train_test_split(df_clean, df_clean['major_group'], test_size=0.2)\n",
    "words_train.to_csv('va_train_clean.csv',index=False, sep=',')\n",
    "words_test.to_csv('va_test_clean.csv', index=False, sep=',')\n",
    "#tag_train.to_csv('va_tag_train.csv')\n",
    "#tag_test.to_csv('va_train_tag_test.csv')"
   ]
  },
  {
   "cell_type": "code",
   "execution_count": 237,
   "metadata": {
    "collapsed": false
   },
   "outputs": [
    {
     "name": "stdout",
     "output_type": "stream",
     "text": [
      "288000\n",
      "72000\n"
     ]
    }
   ],
   "source": [
    "print len(words_train)\n",
    "print len(words_test)"
   ]
  }
 ],
 "metadata": {
  "kernelspec": {
   "display_name": "Python 2",
   "language": "python",
   "name": "python2"
  },
  "language_info": {
   "codemirror_mode": {
    "name": "ipython",
    "version": 2
   },
   "file_extension": ".py",
   "mimetype": "text/x-python",
   "name": "python",
   "nbconvert_exporter": "python",
   "pygments_lexer": "ipython2",
   "version": "2.7.10"
  }
 },
 "nbformat": 4,
 "nbformat_minor": 1
}
