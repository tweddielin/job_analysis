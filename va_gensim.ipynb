{
 "cells": [
  {
   "cell_type": "code",
   "execution_count": 1,
   "metadata": {
    "collapsed": true
   },
   "outputs": [],
   "source": [
    "from pprint import pprint\n",
    "import pandas as pd\n",
    "from gensim import corpora\n",
    "import gensim\n",
    "import logging\n",
    "import re\n",
    "import multiprocessing\n",
    "import collections\n",
    "from tqdm import tqdm\n",
    "from collections import defaultdict\n",
    "logging.basicConfig(format='%(asctime)s : %(levelname)s : %(message)s', level=logging.INFO)"
   ]
  },
  {
   "cell_type": "code",
   "execution_count": 80,
   "metadata": {
    "collapsed": false
   },
   "outputs": [
    {
     "name": "stdout",
     "output_type": "stream",
     "text": [
      "8\n"
     ]
    }
   ],
   "source": [
    "fname = 'joblistings.merged.parsed.unique.grpbyyear.2010-2015.01.tsv'\n",
    "cores = multiprocessing.cpu_count()\n",
    "print cores"
   ]
  },
  {
   "cell_type": "code",
   "execution_count": 196,
   "metadata": {
    "collapsed": false
   },
   "outputs": [],
   "source": [
    "def get_corpus(fname):\n",
    "    with open(fname) as f:\n",
    "        lines = iter(f)\n",
    "        lines.next()\n",
    "        for line in lines:\n",
    "            yield line\n",
    "            \n",
    "class CorpusFriendly(object):\n",
    "    def __init__(self,fname, topK=None):\n",
    "        self.topK = topK\n",
    "        self.fname = fname\n",
    "        \n",
    "    def __iter__(self):\n",
    "        k = 1\n",
    "        corpus_memory_friendly = get_corpus(self.fname)\n",
    "        for data in corpus_memory_friendly:\n",
    "            data = gensim.utils.to_unicode(data).split(',')\n",
    "            #print data\n",
    "            words = data[2].split()\n",
    "            label = data[0]\n",
    "            yield gensim.models.doc2vec.TaggedDocument(words, [label])\n",
    "            if self.topK:\n",
    "                if k >= self.topK:\n",
    "                    break\n",
    "                k += 1\n",
    "        "
   ]
  },
  {
   "cell_type": "code",
   "execution_count": 149,
   "metadata": {
    "collapsed": false
   },
   "outputs": [],
   "source": [
    "# print model.similarity('computer', 'computer')\n",
    "# print model.similarity('programming', 'programmer')\n",
    "# print model.similarity('programming', 'engineering') "
   ]
  },
  {
   "cell_type": "code",
   "execution_count": 226,
   "metadata": {
    "collapsed": false
   },
   "outputs": [
    {
     "data": {
      "text/plain": [
       "[(u'cad', 0.35921186208724976),\n",
       " (u'hardware', 0.336124062538147),\n",
       " (u'editing', 0.33407896757125854),\n",
       " (u'optics', 0.32418403029441833),\n",
       " (u'graphic', 0.32240891456604004),\n",
       " (u'auditing', 0.3200691044330597),\n",
       " (u'unix', 0.31896811723709106),\n",
       " (u'engineer', 0.31864529848098755),\n",
       " (u'design', 0.29961076378822327),\n",
       " (u'troubleshooting', 0.2965896725654602)]"
      ]
     },
     "execution_count": 226,
     "metadata": {},
     "output_type": "execute_result"
    }
   ],
   "source": [
    "model.most_similar(positive=['engineering','programming'], topn=10)"
   ]
  },
  {
   "cell_type": "code",
   "execution_count": 227,
   "metadata": {
    "collapsed": false
   },
   "outputs": [
    {
     "data": {
      "text/plain": [
       "[(u'cad', 0.3522326946258545),\n",
       " (u'hardware', 0.330003023147583),\n",
       " (u'auditing', 0.31466442346572876),\n",
       " (u'design', 0.30814027786254883),\n",
       " (u'troubleshooting', 0.3070387840270996),\n",
       " (u'instrumentation', 0.3017618656158447),\n",
       " (u'biology', 0.29656803607940674),\n",
       " (u'autocad', 0.29571235179901123),\n",
       " (u'electrical', 0.2952849268913269),\n",
       " (u'jvm', 0.2948858141899109)]"
      ]
     },
     "execution_count": 227,
     "metadata": {},
     "output_type": "execute_result"
    }
   ],
   "source": [
    "model2.most_similar(positive=['engineering','programming'], topn=10)"
   ]
  },
  {
   "cell_type": "code",
   "execution_count": 228,
   "metadata": {
    "collapsed": false
   },
   "outputs": [
    {
     "data": {
      "text/plain": [
       "[(u'hardware', 0.4103742241859436),\n",
       " (u'architecture', 0.33160144090652466),\n",
       " (u'embedded', 0.3228675127029419),\n",
       " (u'development', 0.3150022625923157),\n",
       " (u'design', 0.30437466502189636),\n",
       " (u'integration', 0.3014294505119324),\n",
       " (u'modeling', 0.2951388955116272),\n",
       " (u'accounting', 0.29434525966644287),\n",
       " (u'programing', 0.2870217561721802),\n",
       " (u'spreadsheet', 0.2822428345680237)]"
      ]
     },
     "execution_count": 228,
     "metadata": {},
     "output_type": "execute_result"
    }
   ],
   "source": [
    "model_full_major.most_similar(positive=['engineering','programming'], topn=10)"
   ]
  },
  {
   "cell_type": "markdown",
   "metadata": {},
   "source": [
    "## Train on 5000 documents\n",
    "**model 1:** paragraph_id (tag) = onet major group code, which is the first 2 digits  \n",
    "**model 2:** paragraph_id (tag) = whole onet code, which is something like 13-1141.00"
   ]
  },
  {
   "cell_type": "code",
   "execution_count": 186,
   "metadata": {
    "collapsed": false
   },
   "outputs": [
    {
     "name": "stderr",
     "output_type": "stream",
     "text": [
      "2016-12-01 17:30:55,731 : INFO : loading Word2Vec object from gensim_doc2vec_topK5000\n",
      "2016-12-01 17:30:55,971 : INFO : loading docvecs recursively from gensim_doc2vec_topK5000.docvecs.* with mmap=None\n",
      "2016-12-01 17:30:55,971 : INFO : loading syn0 from gensim_doc2vec_topK5000.syn0.npy with mmap=None\n",
      "2016-12-01 17:30:56,090 : INFO : loading syn1 from gensim_doc2vec_topK5000.syn1.npy with mmap=None\n",
      "2016-12-01 17:30:56,282 : INFO : setting ignored attribute syn0norm to None\n",
      "2016-12-01 17:30:56,287 : INFO : setting ignored attribute cum_table to None\n",
      "2016-12-01 17:30:56,294 : INFO : loading Word2Vec object from gensim_doc2vec_topK5000_onetcode\n",
      "2016-12-01 17:30:56,537 : INFO : loading docvecs recursively from gensim_doc2vec_topK5000_onetcode.docvecs.* with mmap=None\n",
      "2016-12-01 17:30:56,537 : INFO : loading syn0 from gensim_doc2vec_topK5000_onetcode.syn0.npy with mmap=None\n",
      "2016-12-01 17:30:56,651 : INFO : loading syn1 from gensim_doc2vec_topK5000_onetcode.syn1.npy with mmap=None\n",
      "2016-12-01 17:30:56,776 : INFO : setting ignored attribute syn0norm to None\n",
      "2016-12-01 17:30:56,776 : INFO : setting ignored attribute cum_table to None\n"
     ]
    }
   ],
   "source": [
    "model = gensim.models.Word2Vec.load(\"gensim_doc2vec_topK5000\")  # open the model\n",
    "model2 = gensim.models.Word2Vec.load(\"gensim_doc2vec_topK5000_onetcode\")  # open the model"
   ]
  },
  {
   "cell_type": "markdown",
   "metadata": {},
   "source": [
    "### Model 1 Evaluation"
   ]
  },
  {
   "cell_type": "code",
   "execution_count": 202,
   "metadata": {
    "collapsed": true
   },
   "outputs": [],
   "source": [
    "corpus_test = CorpusFriendly(fname=\"va_test_clean.csv\")"
   ]
  },
  {
   "cell_type": "code",
   "execution_count": 208,
   "metadata": {
    "collapsed": false
   },
   "outputs": [
    {
     "name": "stderr",
     "output_type": "stream",
     "text": [
      "72000it [25:23, 47.25it/s]\n"
     ]
    }
   ],
   "source": [
    "ranks = []\n",
    "for des in tqdm(corpus_test):\n",
    "    inferred_vector = model.infer_vector(des.words)\n",
    "    sims = model.docvecs.most_similar([inferred_vector], topn=len(model.docvecs))\n",
    "    rank = [docid for docid, sim in sims].index(des.tags[0])\n",
    "#     print des.tags[0]\n",
    "    ranks.append(rank)\n",
    "#     print sims\n",
    "#     break"
   ]
  },
  {
   "cell_type": "code",
   "execution_count": 209,
   "metadata": {
    "collapsed": false
   },
   "outputs": [
    {
     "name": "stdout",
     "output_type": "stream",
     "text": [
      "Counter({0: 43016, 1: 9997, 2: 5014, 3: 2823, 4: 1846, 5: 1437, 6: 1055, 7: 898, 8: 789, 9: 665, 10: 588, 11: 571, 12: 448, 13: 411, 14: 383, 15: 336, 16: 299, 17: 250, 18: 227, 19: 209, 20: 208, 21: 179, 22: 159, 23: 116, 24: 76})\n"
     ]
    }
   ],
   "source": [
    "rank_count = collections.Counter(ranks)\n",
    "print rank_count"
   ]
  },
  {
   "cell_type": "code",
   "execution_count": 210,
   "metadata": {
    "collapsed": false
   },
   "outputs": [
    {
     "name": "stdout",
     "output_type": "stream",
     "text": [
      "Top-1 Accuracy 0.597444444444\n",
      "Top-2 Accuracy 0.736291666667\n",
      "Top-3 Accuracy 0.805930555556\n",
      "Top-4 Accuracy 0.845138888889\n",
      "Top-5 Accuracy 0.870777777778\n"
     ]
    }
   ],
   "source": [
    "# Top N Accuracy\n",
    "print \"Top-1 Accuracy\", sum(rank_count.values()[:1]) / float(sum(collections.Counter(ranks).values()))\n",
    "print \"Top-2 Accuracy\", sum(rank_count.values()[:2]) / float(sum(collections.Counter(ranks).values()))\n",
    "print \"Top-3 Accuracy\", sum(rank_count.values()[:3]) / float(sum(collections.Counter(ranks).values()))\n",
    "print \"Top-4 Accuracy\", sum(rank_count.values()[:4]) / float(sum(collections.Counter(ranks).values()))\n",
    "print \"Top-5 Accuracy\", sum(rank_count.values()[:5]) / float(sum(collections.Counter(ranks).values()))"
   ]
  },
  {
   "cell_type": "markdown",
   "metadata": {},
   "source": [
    "### Model 2 Evaluation"
   ]
  },
  {
   "cell_type": "code",
   "execution_count": null,
   "metadata": {
    "collapsed": true
   },
   "outputs": [],
   "source": [
    "corpus_test = CorpusFriendly(fname=\"va_test_clean.csv\")"
   ]
  },
  {
   "cell_type": "code",
   "execution_count": 195,
   "metadata": {
    "collapsed": false
   },
   "outputs": [
    {
     "name": "stderr",
     "output_type": "stream",
     "text": [
      "72000it [29:06, 33.28it/s]\n"
     ]
    }
   ],
   "source": [
    "ranks2 = []\n",
    "for des in tqdm(corpus_test):\n",
    "    inferred_vector = model2.infer_vector(des.words)\n",
    "    sims = model2.docvecs.most_similar([inferred_vector], topn=len(model2.docvecs))\n",
    "    rank = [docid[:2] for docid, sim in sims].index(des.tags[0])\n",
    "    #print des.tags[0]\n",
    "    ranks2.append(rank)\n",
    "    #print ranks"
   ]
  },
  {
   "cell_type": "code",
   "execution_count": 197,
   "metadata": {
    "collapsed": false
   },
   "outputs": [
    {
     "name": "stdout",
     "output_type": "stream",
     "text": [
      "Counter({0: 41606, 1: 7850, 2: 4240, 3: 2565, 4: 1670, 5: 1322, 6: 1037, 7: 884, 8: 693, 9: 618, 10: 544, 11: 518, 12: 465, 13: 420, 14: 379, 15: 328, 16: 316, 17: 289, 18: 267, 19: 237, 20: 233, 21: 232, 22: 204, 24: 196, 23: 185, 26: 160, 27: 149, 25: 144, 28: 137, 30: 114, 32: 114, 31: 106, 29: 105, 33: 91, 36: 90, 40: 87, 39: 83, 37: 82, 34: 80, 45: 77, 35: 76, 41: 76, 46: 73, 38: 72, 42: 66, 48: 66, 44: 59, 47: 59, 50: 59, 43: 57, 54: 57, 49: 49, 58: 49, 53: 48, 51: 46, 57: 41, 60: 40, 59: 39, 66: 39, 52: 38, 67: 38, 61: 37, 62: 37, 65: 37, 55: 35, 63: 35, 64: 35, 68: 35, 56: 33, 76: 33, 78: 31, 70: 30, 73: 30, 77: 29, 71: 28, 75: 27, 80: 27, 82: 27, 81: 26, 72: 25, 74: 25, 101: 25, 88: 24, 85: 23, 89: 22, 103: 22, 83: 21, 94: 21, 112: 21, 69: 20, 87: 20, 92: 20, 79: 19, 93: 19, 86: 18, 90: 18, 91: 18, 109: 18, 96: 17, 99: 17, 104: 17, 95: 16, 105: 16, 97: 15, 100: 15, 116: 15, 120: 15, 130: 15, 84: 14, 118: 14, 98: 13, 102: 13, 111: 13, 117: 13, 107: 12, 108: 12, 110: 12, 121: 12, 125: 12, 137: 12, 152: 12, 114: 11, 115: 11, 126: 11, 127: 11, 156: 11, 123: 10, 124: 10, 135: 10, 142: 10, 106: 9, 131: 9, 138: 9, 133: 8, 140: 8, 146: 8, 150: 8, 159: 8, 169: 8, 119: 7, 122: 7, 136: 7, 144: 7, 147: 7, 148: 7, 149: 7, 173: 7, 187: 7, 113: 6, 129: 6, 154: 6, 161: 6, 162: 6, 164: 6, 166: 6, 171: 6, 172: 6, 179: 6, 205: 6, 209: 6, 218: 6, 139: 5, 143: 5, 145: 5, 153: 5, 157: 5, 160: 5, 163: 5, 165: 5, 168: 5, 178: 5, 182: 5, 203: 5, 132: 4, 134: 4, 141: 4, 155: 4, 158: 4, 170: 4, 176: 4, 177: 4, 185: 4, 186: 4, 191: 4, 193: 4, 195: 4, 202: 4, 204: 4, 208: 4, 219: 4, 220: 4, 221: 4, 227: 4, 228: 4, 230: 4, 240: 4, 249: 4, 265: 4, 128: 3, 151: 3, 167: 3, 174: 3, 180: 3, 181: 3, 188: 3, 192: 3, 194: 3, 201: 3, 207: 3, 210: 3, 211: 3, 225: 3, 233: 3, 245: 3, 247: 3, 248: 3, 251: 3, 257: 3, 258: 3, 272: 3, 284: 3, 304: 3, 183: 2, 184: 2, 190: 2, 197: 2, 198: 2, 213: 2, 214: 2, 215: 2, 216: 2, 217: 2, 224: 2, 229: 2, 234: 2, 236: 2, 237: 2, 243: 2, 244: 2, 250: 2, 256: 2, 261: 2, 268: 2, 276: 2, 289: 2, 292: 2, 297: 2, 299: 2, 305: 2, 307: 2, 175: 1, 189: 1, 196: 1, 199: 1, 200: 1, 206: 1, 222: 1, 223: 1, 226: 1, 231: 1, 232: 1, 238: 1, 239: 1, 241: 1, 242: 1, 246: 1, 252: 1, 254: 1, 262: 1, 264: 1, 266: 1, 270: 1, 271: 1, 273: 1, 274: 1, 277: 1, 280: 1, 282: 1, 286: 1, 287: 1, 291: 1, 302: 1, 318: 1, 319: 1, 320: 1, 324: 1, 326: 1, 327: 1, 329: 1, 333: 1, 337: 1, 338: 1, 350: 1, 365: 1})\n"
     ]
    }
   ],
   "source": [
    "rank2_count = collections.Counter(ranks2)\n",
    "print rank2_count"
   ]
  },
  {
   "cell_type": "code",
   "execution_count": 198,
   "metadata": {
    "collapsed": false
   },
   "outputs": [
    {
     "name": "stdout",
     "output_type": "stream",
     "text": [
      "Top-1 Accuracy 0.577861111111\n",
      "Top-2 Accuracy 0.686888888889\n",
      "Top-3 Accuracy 0.745777777778\n",
      "Top-4 Accuracy 0.781402777778\n",
      "Top-5 Accuracy 0.804597222222\n"
     ]
    }
   ],
   "source": [
    "# Top N Accuracy\n",
    "print \"Top-1 Accuracy\", sum(rank2_count.values()[:1]) / float(sum(collections.Counter(ranks2).values()))\n",
    "print \"Top-2 Accuracy\", sum(rank2_count.values()[:2]) / float(sum(collections.Counter(ranks2).values()))\n",
    "print \"Top-3 Accuracy\", sum(rank2_count.values()[:3]) / float(sum(collections.Counter(ranks2).values()))\n",
    "print \"Top-4 Accuracy\", sum(rank2_count.values()[:4]) / float(sum(collections.Counter(ranks2).values()))\n",
    "print \"Top-5 Accuracy\", sum(rank2_count.values()[:5]) / float(sum(collections.Counter(ranks2).values()))"
   ]
  },
  {
   "cell_type": "markdown",
   "metadata": {},
   "source": [
    "## Training on full dataset 288000 documents"
   ]
  },
  {
   "cell_type": "code",
   "execution_count": 212,
   "metadata": {
    "collapsed": true
   },
   "outputs": [],
   "source": [
    "corpus_test = CorpusFriendly(fname=\"va_test_clean.csv\")"
   ]
  },
  {
   "cell_type": "code",
   "execution_count": 211,
   "metadata": {
    "collapsed": false
   },
   "outputs": [
    {
     "name": "stderr",
     "output_type": "stream",
     "text": [
      "2016-12-01 19:15:32,878 : INFO : loading Word2Vec object from gensim_doc2vec_major\n",
      "2016-12-01 19:15:34,974 : INFO : loading docvecs recursively from gensim_doc2vec_major.docvecs.* with mmap=None\n",
      "2016-12-01 19:15:34,975 : INFO : loading syn0 from gensim_doc2vec_major.syn0.npy with mmap=None\n",
      "2016-12-01 19:15:35,547 : INFO : loading syn1 from gensim_doc2vec_major.syn1.npy with mmap=None\n",
      "2016-12-01 19:15:36,232 : INFO : setting ignored attribute syn0norm to None\n",
      "2016-12-01 19:15:36,233 : INFO : setting ignored attribute cum_table to None\n"
     ]
    }
   ],
   "source": [
    "model_full_major = gensim.models.Word2Vec.load(\"gensim_doc2vec_major\")  # open the model"
   ]
  },
  {
   "cell_type": "code",
   "execution_count": 213,
   "metadata": {
    "collapsed": false
   },
   "outputs": [
    {
     "name": "stderr",
     "output_type": "stream",
     "text": [
      "72000it [14:25, 83.21it/s]\n"
     ]
    }
   ],
   "source": [
    "ranks_full = []\n",
    "for des in tqdm(corpus_test):\n",
    "    inferred_vector = model.infer_vector(des.words)\n",
    "    sims = model.docvecs.most_similar([inferred_vector], topn=len(model.docvecs))\n",
    "    rank = [docid for docid, sim in sims].index(des.tags[0])\n",
    "#     print des.tags[0]\n",
    "    ranks_full.append(rank)\n",
    "#     print sims\n",
    "#     break"
   ]
  },
  {
   "cell_type": "code",
   "execution_count": 214,
   "metadata": {
    "collapsed": false
   },
   "outputs": [
    {
     "name": "stdout",
     "output_type": "stream",
     "text": [
      "Counter({0: 42941, 1: 9981, 2: 5004, 3: 2942, 4: 1855, 5: 1349, 6: 1106, 7: 877, 8: 724, 9: 687, 10: 616, 11: 512, 12: 497, 13: 409, 14: 390, 15: 344, 16: 296, 18: 269, 17: 260, 19: 245, 20: 205, 21: 165, 22: 126, 23: 108, 24: 92})\n"
     ]
    }
   ],
   "source": [
    "rank_full_count = collections.Counter(ranks_full)\n",
    "print rank_full_count"
   ]
  },
  {
   "cell_type": "code",
   "execution_count": 215,
   "metadata": {
    "collapsed": false
   },
   "outputs": [
    {
     "name": "stdout",
     "output_type": "stream",
     "text": [
      "Top-1 Accuracy 0.596402777778\n",
      "Top-2 Accuracy 0.735027777778\n",
      "Top-3 Accuracy 0.804527777778\n",
      "Top-4 Accuracy 0.845388888889\n",
      "Top-5 Accuracy 0.871152777778\n"
     ]
    }
   ],
   "source": [
    "# Top N Accuracy\n",
    "print \"Top-1 Accuracy\", sum(rank_full_count.values()[:1]) / float(sum(collections.Counter(ranks_full).values()))\n",
    "print \"Top-2 Accuracy\", sum(rank_full_count.values()[:2]) / float(sum(collections.Counter(ranks_full).values()))\n",
    "print \"Top-3 Accuracy\", sum(rank_full_count.values()[:3]) / float(sum(collections.Counter(ranks_full).values()))\n",
    "print \"Top-4 Accuracy\", sum(rank_full_count.values()[:4]) / float(sum(collections.Counter(ranks_full).values()))\n",
    "print \"Top-5 Accuracy\", sum(rank_full_count.values()[:5]) / float(sum(collections.Counter(ranks_full).values()))"
   ]
  },
  {
   "cell_type": "markdown",
   "metadata": {},
   "source": [
    "# Snippet examples"
   ]
  },
  {
   "cell_type": "code",
   "execution_count": 263,
   "metadata": {
    "collapsed": false
   },
   "outputs": [
    {
     "name": "stdout",
     "output_type": "stream",
     "text": [
      "\n"
     ]
    }
   ],
   "source": [
    "onetdict ={'11': 'Management Occupations',\n",
    "           '13': 'Business and Financial Operations Occupations',\n",
    "           '15': 'Computer and Mathematical Occupations',\n",
    "           '17': 'Architecture and Engineering Occupations',\n",
    "           '19': 'Life, Physical, and Social Science Occupations',\n",
    "           '21': 'Community and Social Service Occupations',\n",
    "           '23': 'Legal Occupations',\n",
    "           '25': 'Education, Training, and Library Occupations',\n",
    "           '27': 'Arts, Design, Entertainment, Sports, and Media Occupations',\n",
    "           '29': 'Healthcare Practitioners and Technical Occupations',\n",
    "           '31': 'Healthcare Support Occupations',\n",
    "           '33': 'Protective Service Occupations',\n",
    "           '35': 'Food Preparation and Serving Related Occupations',\n",
    "           '37': 'Building and Grounds Cleaning and Maintenance',\n",
    "           '39': 'Personal Care and Service Occupations',\n",
    "           '41': 'Sales and Related Occupations', \n",
    "           '43': 'Office and Administrative Support Occupations',\n",
    "           '45': 'Farming, Fishing, and Forestry Occupations',\n",
    "           '47': 'Construction and Extraction Occupations', \n",
    "           '49': 'Installation, Maintenance, and Repair Occupations', \n",
    "           '51': 'Production Occupations', \n",
    "           '53': 'Transportation and Material Moving Occupations', \n",
    "           '55': 'Military Specific Occupations',\n",
    "           '99': 'Unknown'}"
   ]
  },
  {
   "cell_type": "code",
   "execution_count": 164,
   "metadata": {
    "collapsed": false
   },
   "outputs": [],
   "source": [
    "test_list = list(corpus_test.__iter__())"
   ]
  },
  {
   "cell_type": "code",
   "execution_count": null,
   "metadata": {
    "collapsed": true
   },
   "outputs": [],
   "source": [
    "# test id = 45, 3123, 4646"
   ]
  },
  {
   "cell_type": "code",
   "execution_count": 260,
   "metadata": {
    "collapsed": false
   },
   "outputs": [
    {
     "name": "stdout",
     "output_type": "stream",
     "text": [
      "Document (3123) Major Group (13) Business and Financial Operations Occupations: \n",
      "«barista takeda pharmaceuticals international company personal financial advisors span strong about aramark strong span br span aramark nyse armk is in the customer service business across food facilities and uniforms wherever people work learn recover and play united by passion to serve our more than employees deliver experiences that enrich and nourish the lives of millions of people in countries around the world every day aramark is recognized among the most admired companies by fortune and the worlds most ethical companies by the ethisphere institute learn more at www aramark com or connect with us on facebook and twitter span br span strong essential tasks and strong span ul li span maintain positive attitude and smile and be polite with customers throughout the transaction span li li span greet customers as they approach the cash register span li li span take the customers order and prepare the order according to brand specifications and the customer requests span li li span must have knowledge of menu items and recipes to effectively service the customer span li li span effectively and efficiently complete the financial transaction span li li span maintain the balance of the cash drawer at all times span li li span distribute and post marketing materials as required span li li span maintain daily temperature logs span li li span adhere to additional standards set by designated brand span li li span proper use of station machinery and equipment span li li span ability to understand and follow directions given by management span li li span maintain neat and clean beverage station and presentable work area span li li span ability to stand for extended periods of time up to hours span li li span ability to lift up to lbs and frequently lift push pull or carry up to lbs span li li span ability to walk or stand for extended time periods up to hours span li li span involves repetitive motion span li li span involves working with chemicals heated equipment steam and at other risk conditions span li li span assist management team with administrative functions and daily food prep during down times span li ul span strong additional job functions strong span ul li span work in other areas and departments as necessary span li li span completion of any task requested by supervisor or member of the aramark management team span li ul br span strong required qualifications strong span ul li span excellent interpersonal skills and positive attitude span li li span ability to work independently span li li span posses good time management with daily tasks required by the management team span li li span math skills for counting money and providing correct change span li li span knowledge of running cash register and credit card machine transactions span li ul span strong desired qualifications strong span ul li span experience in the food service industry as barista smoothie food service worker span li li span great customer service skills span li ul span strong work environment strong front of house barista station occasionally requires the ability to work in the kitchen area and possible interaction with hot food items heated equipment steam noise and other at risk conditions involves repetitive motion span span schedule monday friday am pm span br»\n",
      "\n",
      "SIMILAR/DISSIMILAR DOCS PER MODEL Doc2Vec(dm/s,d800,hs,w8,mc3,t6):\n",
      "\n",
      "(u'35', 0.3856028914451599) Food Preparation and Serving Related Occupations\n",
      "(u'21', 0.010629242286086082) Community and Social Service Occupations\n"
     ]
    }
   ],
   "source": [
    "doc_id = 3123\n",
    "print('Document ({}) Major Group ({}) {}: \\n«{}»\\n'.format(doc_id, test_list[doc_id].tags[0], onetdict[test_list[doc_id].tags[0]],' '.join(test_list[doc_id].words)))\n",
    "print(u'SIMILAR/DISSIMILAR DOCS PER MODEL %s:\\n' % model)\n",
    "inferred_vector = model.infer_vector(test_list[doc_id].words)\n",
    "sims = model.docvecs.most_similar([inferred_vector], topn=len(model.docvecs))\n",
    "print sims[0], onetdict[sims[0][0]]\n",
    "print sims[-1], onetdict[sims[-1][0]]\n"
   ]
  },
  {
   "cell_type": "code",
   "execution_count": 261,
   "metadata": {
    "collapsed": false
   },
   "outputs": [
    {
     "name": "stdout",
     "output_type": "stream",
     "text": [
      "Document (3123) Major Group (13) Business and Financial Operations Occupations: \n",
      "«barista takeda pharmaceuticals international company personal financial advisors span strong about aramark strong span br span aramark nyse armk is in the customer service business across food facilities and uniforms wherever people work learn recover and play united by passion to serve our more than employees deliver experiences that enrich and nourish the lives of millions of people in countries around the world every day aramark is recognized among the most admired companies by fortune and the worlds most ethical companies by the ethisphere institute learn more at www aramark com or connect with us on facebook and twitter span br span strong essential tasks and strong span ul li span maintain positive attitude and smile and be polite with customers throughout the transaction span li li span greet customers as they approach the cash register span li li span take the customers order and prepare the order according to brand specifications and the customer requests span li li span must have knowledge of menu items and recipes to effectively service the customer span li li span effectively and efficiently complete the financial transaction span li li span maintain the balance of the cash drawer at all times span li li span distribute and post marketing materials as required span li li span maintain daily temperature logs span li li span adhere to additional standards set by designated brand span li li span proper use of station machinery and equipment span li li span ability to understand and follow directions given by management span li li span maintain neat and clean beverage station and presentable work area span li li span ability to stand for extended periods of time up to hours span li li span ability to lift up to lbs and frequently lift push pull or carry up to lbs span li li span ability to walk or stand for extended time periods up to hours span li li span involves repetitive motion span li li span involves working with chemicals heated equipment steam and at other risk conditions span li li span assist management team with administrative functions and daily food prep during down times span li ul span strong additional job functions strong span ul li span work in other areas and departments as necessary span li li span completion of any task requested by supervisor or member of the aramark management team span li ul br span strong required qualifications strong span ul li span excellent interpersonal skills and positive attitude span li li span ability to work independently span li li span posses good time management with daily tasks required by the management team span li li span math skills for counting money and providing correct change span li li span knowledge of running cash register and credit card machine transactions span li ul span strong desired qualifications strong span ul li span experience in the food service industry as barista smoothie food service worker span li li span great customer service skills span li ul span strong work environment strong front of house barista station occasionally requires the ability to work in the kitchen area and possible interaction with hot food items heated equipment steam noise and other at risk conditions involves repetitive motion span span schedule monday friday am pm span br»\n",
      "\n",
      "SIMILAR/DISSIMILAR DOCS PER MODEL Doc2Vec(dm/s,d800,hs,w8,mc3,t6):\n",
      "\n",
      "(u'35-3022.01', 0.5581244230270386) Food Preparation and Serving Related Occupations\n",
      "(u'51-4012.00', -0.10986696183681488) Production Occupations\n"
     ]
    }
   ],
   "source": [
    "doc_id = 3123\n",
    "print('Document ({}) Major Group ({}) {}: \\n«{}»\\n'.format(doc_id, test_list[doc_id].tags[0][:2], onetdict[test_list[doc_id].tags[0][:2]],' '.join(test_list[doc_id].words)))\n",
    "print(u'SIMILAR/DISSIMILAR DOCS PER MODEL %s:\\n' % model2)\n",
    "inferred_vector = model2.infer_vector(test_list[doc_id].words)\n",
    "sims = model2.docvecs.most_similar([inferred_vector], topn=len(model2.docvecs))\n",
    "print sims[0], onetdict[sims[0][0][:2]]\n",
    "print sims[-1], onetdict[sims[-1][0][:2]]\n"
   ]
  },
  {
   "cell_type": "code",
   "execution_count": 277,
   "metadata": {
    "collapsed": false
   },
   "outputs": [
    {
     "name": "stdout",
     "output_type": "stream",
     "text": [
      "Document (3123) Major Group (13) Business and Financial Operations Occupations: \n",
      "«barista takeda pharmaceuticals international company personal financial advisors span strong about aramark strong span br span aramark nyse armk is in the customer service business across food facilities and uniforms wherever people work learn recover and play united by passion to serve our more than employees deliver experiences that enrich and nourish the lives of millions of people in countries around the world every day aramark is recognized among the most admired companies by fortune and the worlds most ethical companies by the ethisphere institute learn more at www aramark com or connect with us on facebook and twitter span br span strong essential tasks and strong span ul li span maintain positive attitude and smile and be polite with customers throughout the transaction span li li span greet customers as they approach the cash register span li li span take the customers order and prepare the order according to brand specifications and the customer requests span li li span must have knowledge of menu items and recipes to effectively service the customer span li li span effectively and efficiently complete the financial transaction span li li span maintain the balance of the cash drawer at all times span li li span distribute and post marketing materials as required span li li span maintain daily temperature logs span li li span adhere to additional standards set by designated brand span li li span proper use of station machinery and equipment span li li span ability to understand and follow directions given by management span li li span maintain neat and clean beverage station and presentable work area span li li span ability to stand for extended periods of time up to hours span li li span ability to lift up to lbs and frequently lift push pull or carry up to lbs span li li span ability to walk or stand for extended time periods up to hours span li li span involves repetitive motion span li li span involves working with chemicals heated equipment steam and at other risk conditions span li li span assist management team with administrative functions and daily food prep during down times span li ul span strong additional job functions strong span ul li span work in other areas and departments as necessary span li li span completion of any task requested by supervisor or member of the aramark management team span li ul br span strong required qualifications strong span ul li span excellent interpersonal skills and positive attitude span li li span ability to work independently span li li span posses good time management with daily tasks required by the management team span li li span math skills for counting money and providing correct change span li li span knowledge of running cash register and credit card machine transactions span li ul span strong desired qualifications strong span ul li span experience in the food service industry as barista smoothie food service worker span li li span great customer service skills span li ul span strong work environment strong front of house barista station occasionally requires the ability to work in the kitchen area and possible interaction with hot food items heated equipment steam noise and other at risk conditions involves repetitive motion span span schedule monday friday am pm span br»\n",
      "\n",
      "SIMILAR/DISSIMILAR DOCS PER MODEL Doc2Vec(dm/s,d800,hs,w8,mc3,t6):\n",
      "\n",
      "(u'35', 0.21887636184692383) Food Preparation and Serving Related Occupations\n",
      "(u'55', 0.06432488560676575) Military Specific Occupations\n"
     ]
    }
   ],
   "source": [
    "doc_id = 3123\n",
    "print('Document ({}) Major Group ({}) {}: \\n«{}»\\n'.format(doc_id, test_list[doc_id].tags[0], onetdict[test_list[doc_id].tags[0]],' '.join(test_list[doc_id].words)))\n",
    "print(u'SIMILAR/DISSIMILAR DOCS PER MODEL %s:\\n' % model_full_major)\n",
    "inferred_vector = model_full_major.infer_vector(test_list[doc_id].words)\n",
    "sims = model_full_major.docvecs.most_similar([inferred_vector], topn=len(model_full_major.docvecs))\n",
    "print sims[0], onetdict[sims[0][0]]\n",
    "print sims[-1], onetdict[sims[-1][0]]"
   ]
  },
  {
   "cell_type": "code",
   "execution_count": null,
   "metadata": {
    "collapsed": true
   },
   "outputs": [],
   "source": []
  }
 ],
 "metadata": {
  "kernelspec": {
   "display_name": "Python 2",
   "language": "python",
   "name": "python2"
  },
  "language_info": {
   "codemirror_mode": {
    "name": "ipython",
    "version": 2
   },
   "file_extension": ".py",
   "mimetype": "text/x-python",
   "name": "python",
   "nbconvert_exporter": "python",
   "pygments_lexer": "ipython2",
   "version": "2.7.10"
  }
 },
 "nbformat": 4,
 "nbformat_minor": 1
}
